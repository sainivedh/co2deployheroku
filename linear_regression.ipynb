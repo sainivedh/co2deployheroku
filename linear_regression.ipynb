{
 "metadata": {
  "language_info": {
   "codemirror_mode": {
    "name": "ipython",
    "version": 3
   },
   "file_extension": ".py",
   "mimetype": "text/x-python",
   "name": "python",
   "nbconvert_exporter": "python",
   "pygments_lexer": "ipython3",
   "version": "3.7.4-final"
  },
  "orig_nbformat": 2,
  "kernelspec": {
   "name": "python_defaultSpec_1599555240897",
   "display_name": "Python 3.7.4 64-bit ('Anaconda': conda)"
  }
 },
 "nbformat": 4,
 "nbformat_minor": 2,
 "cells": [
  {
   "cell_type": "code",
   "execution_count": 2,
   "metadata": {},
   "outputs": [],
   "source": [
    "import numpy as np\n",
    "import matplotlib.pyplot as plt\n",
    "import pandas as pd"
   ]
  },
  {
   "cell_type": "code",
   "execution_count": 11,
   "metadata": {},
   "outputs": [],
   "source": [
    "import pickle"
   ]
  },
  {
   "cell_type": "code",
   "execution_count": 3,
   "metadata": {},
   "outputs": [],
   "source": [
    "df = pd.read_csv('CO2 Emissions_Canada.csv')"
   ]
  },
  {
   "cell_type": "code",
   "execution_count": 5,
   "metadata": {},
   "outputs": [],
   "source": [
    "df = df[['Engine Size(L)','Cylinders','Fuel Consumption Comb (mpg)','CO2 Emissions(g/km)']]"
   ]
  },
  {
   "cell_type": "code",
   "execution_count": 6,
   "metadata": {},
   "outputs": [
    {
     "output_type": "execute_result",
     "data": {
      "text/plain": "   Engine Size(L)  Cylinders  Fuel Consumption Comb (mpg)  CO2 Emissions(g/km)\n0             2.0          4                           33                  196\n1             2.4          4                           29                  221\n2             1.5          4                           48                  136\n3             3.5          6                           25                  255\n4             3.5          6                           27                  244",
      "text/html": "<div>\n<style scoped>\n    .dataframe tbody tr th:only-of-type {\n        vertical-align: middle;\n    }\n\n    .dataframe tbody tr th {\n        vertical-align: top;\n    }\n\n    .dataframe thead th {\n        text-align: right;\n    }\n</style>\n<table border=\"1\" class=\"dataframe\">\n  <thead>\n    <tr style=\"text-align: right;\">\n      <th></th>\n      <th>Engine Size(L)</th>\n      <th>Cylinders</th>\n      <th>Fuel Consumption Comb (mpg)</th>\n      <th>CO2 Emissions(g/km)</th>\n    </tr>\n  </thead>\n  <tbody>\n    <tr>\n      <td>0</td>\n      <td>2.0</td>\n      <td>4</td>\n      <td>33</td>\n      <td>196</td>\n    </tr>\n    <tr>\n      <td>1</td>\n      <td>2.4</td>\n      <td>4</td>\n      <td>29</td>\n      <td>221</td>\n    </tr>\n    <tr>\n      <td>2</td>\n      <td>1.5</td>\n      <td>4</td>\n      <td>48</td>\n      <td>136</td>\n    </tr>\n    <tr>\n      <td>3</td>\n      <td>3.5</td>\n      <td>6</td>\n      <td>25</td>\n      <td>255</td>\n    </tr>\n    <tr>\n      <td>4</td>\n      <td>3.5</td>\n      <td>6</td>\n      <td>27</td>\n      <td>244</td>\n    </tr>\n  </tbody>\n</table>\n</div>"
     },
     "metadata": {},
     "execution_count": 6
    }
   ],
   "source": [
    "df.head()"
   ]
  },
  {
   "cell_type": "code",
   "execution_count": 7,
   "metadata": {},
   "outputs": [
    {
     "output_type": "execute_result",
     "data": {
      "text/plain": "Engine Size(L)                 0\nCylinders                      0\nFuel Consumption Comb (mpg)    0\nCO2 Emissions(g/km)            0\ndtype: int64"
     },
     "metadata": {},
     "execution_count": 7
    }
   ],
   "source": [
    "df.isna().sum()"
   ]
  },
  {
   "cell_type": "code",
   "execution_count": 8,
   "metadata": {},
   "outputs": [],
   "source": [
    "x = df.iloc[:,:-1].values\n",
    "y = df.iloc[:,-1].values"
   ]
  },
  {
   "cell_type": "code",
   "execution_count": 9,
   "metadata": {},
   "outputs": [
    {
     "output_type": "execute_result",
     "data": {
      "text/plain": "array([[ 2. ,  4. , 33. ],\n       [ 2.4,  4. , 29. ],\n       [ 1.5,  4. , 48. ],\n       [ 3.5,  6. , 25. ],\n       [ 3.5,  6. , 27. ]])"
     },
     "metadata": {},
     "execution_count": 9
    }
   ],
   "source": [
    "x[:5]"
   ]
  },
  {
   "cell_type": "code",
   "execution_count": 13,
   "metadata": {
    "tags": []
   },
   "outputs": [
    {
     "output_type": "stream",
     "name": "stdout",
     "text": "[350.03456929]\n"
    }
   ],
   "source": [
    "from sklearn.linear_model import LinearRegression\n",
    "\n",
    "regressor = LinearRegression()\n",
    "regressor.fit(x,y)\n",
    "\n",
    "pickle.dump(regressor, open('model.pkl','wb'))\n",
    "\n",
    "model = pickle.load(open('model.pkl','rb'))\n",
    "print(model.predict([[2.6,8,10.1]]))"
   ]
  },
  {
   "cell_type": "code",
   "execution_count": null,
   "metadata": {},
   "outputs": [],
   "source": []
  }
 ]
}